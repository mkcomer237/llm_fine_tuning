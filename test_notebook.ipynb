{
 "cells": [
  {
   "cell_type": "code",
   "execution_count": 1,
   "metadata": {},
   "outputs": [
    {
     "name": "stdout",
     "output_type": "stream",
     "text": [
      "🦥 Unsloth: Will patch your computer to enable 2x faster free finetuning.\n"
     ]
    },
    {
     "name": "stdout",
     "output_type": "stream",
     "text": [
      "🦥 Unsloth Zoo will now patch everything to make training faster!\n"
     ]
    }
   ],
   "source": [
    "from unsloth import FastLanguageModel\n",
    "import torch\n",
    "import pandas as pd\n",
    "from unsloth.chat_templates import get_chat_template\n",
    "from unsloth.chat_templates import standardize_sharegpt\n",
    "from unsloth.chat_templates import train_on_responses_only\n",
    "\n",
    "from trl import SFTTrainer\n",
    "from transformers import TrainingArguments, DataCollatorForSeq2Seq\n",
    "from unsloth import is_bfloat16_supported\n",
    "\n",
    "from datasets import load_dataset\n",
    "from tqdm import tqdm"
   ]
  },
  {
   "cell_type": "code",
   "execution_count": 2,
   "metadata": {},
   "outputs": [
    {
     "name": "stdout",
     "output_type": "stream",
     "text": [
      "test\n"
     ]
    }
   ],
   "source": [
    "print('test')"
   ]
  },
  {
   "cell_type": "code",
   "execution_count": null,
   "metadata": {},
   "outputs": [],
   "source": []
  },
  {
   "cell_type": "code",
   "execution_count": 3,
   "metadata": {},
   "outputs": [
    {
     "name": "stdout",
     "output_type": "stream",
     "text": [
      "==((====))==  Unsloth 2025.2.4: Fast Llama patching. Transformers: 4.48.2.\n",
      "   \\\\   /|    GPU: NVIDIA A10. Max memory: 21.975 GB. Platform: Linux.\n",
      "O^O/ \\_/ \\    Torch: 2.6.0+cu124. CUDA: 8.6. CUDA Toolkit: 12.4. Triton: 3.2.0\n",
      "\\        /    Bfloat16 = TRUE. FA [Xformers = 0.0.29.post2. FA2 = False]\n",
      " \"-____-\"     Free Apache license: http://github.com/unslothai/unsloth\n",
      "Unsloth: Fast downloading is enabled - ignore downloading bars which are red colored!\n"
     ]
    },
    {
     "name": "stderr",
     "output_type": "stream",
     "text": [
      "Unsloth 2025.2.4 patched 28 layers with 28 QKV layers, 28 O layers and 28 MLP layers.\n"
     ]
    }
   ],
   "source": [
    "ax_seq_length = 2048\n",
    "dtype = None\n",
    "load_in_4bit = True\n",
    "max_seq_length = 2048\n",
    "\n",
    "# 4bit pre quantized models we support for 4x faster downloading + no OOMs.\n",
    "fourbit_models = [\n",
    "    \"unsloth/Meta-Llama-3.1-8B-bnb-4bit\",      # Llama-3.1 2x faster\n",
    "    \"unsloth/Meta-Llama-3.1-8B-Instruct-bnb-4bit\",\n",
    "    \"unsloth/Meta-Llama-3.1-70B-bnb-4bit\",\n",
    "    \"unsloth/Meta-Llama-3.1-405B-bnb-4bit\",    # 4bit for 405b!\n",
    "    \"unsloth/Mistral-Small-Instruct-2409\",     # Mistral 22b 2x faster!\n",
    "    \"unsloth/mistral-7b-instruct-v0.3-bnb-4bit\",\n",
    "    \"unsloth/Phi-3.5-mini-instruct\",           # Phi-3.5 2x faster!\n",
    "    \"unsloth/Phi-3-medium-4k-instruct\",\n",
    "    \"unsloth/gemma-2-9b-bnb-4bit\",\n",
    "    \"unsloth/gemma-2-27b-bnb-4bit\",            # Gemma 2x faster!\n",
    "\n",
    "    \"unsloth/Llama-3.2-1B-bnb-4bit\",           # NEW! Llama 3.2 models\n",
    "    \"unsloth/Llama-3.2-1B-Instruct-bnb-4bit\",\n",
    "    \"unsloth/Llama-3.2-3B-bnb-4bit\",\n",
    "    \"unsloth/Llama-3.2-3B-Instruct-bnb-4bit\",\n",
    "\n",
    "    \"unsloth/Llama-3.3-70B-Instruct-bnb-4bit\" # NEW! Llama 3.3 70B!\n",
    "] # More models at https://huggingface.co/unsloth\n",
    "\n",
    "\n",
    "model, tokenizer = FastLanguageModel.from_pretrained(\n",
    "    model_name = \"unsloth/Llama-3.2-3B-Instruct\", # or choose \"unsloth/Llama-3.2-1B-Instruct\"\n",
    "    max_seq_length = max_seq_length,\n",
    "    dtype = dtype,\n",
    "    load_in_4bit = load_in_4bit,\n",
    "    # token = \"hf_...\", # use one if using gated models like meta-llama/Llama-2-7b-hf\n",
    ")\n",
    "\n",
    "model = FastLanguageModel.get_peft_model(\n",
    "    model,\n",
    "    r = 16, # Choose any number > 0 ! Suggested 8, 16, 32, 64, 128\n",
    "    target_modules = [\"q_proj\", \"k_proj\", \"v_proj\", \"o_proj\",\n",
    "                      \"gate_proj\", \"up_proj\", \"down_proj\",],\n",
    "    lora_alpha = 16,\n",
    "    lora_dropout = 0, # Supports any, but = 0 is optimized\n",
    "    bias = \"none\",    # Supports any, but = \"none\" is optimized\n",
    "    # [NEW] \"unsloth\" uses 30% less VRAM, fits 2x larger batch sizes!\n",
    "    use_gradient_checkpointing = \"unsloth\", # True or \"unsloth\" for very long context\n",
    "    random_state = 3407,\n",
    "    use_rslora = False,  # We support rank stabilized LoRA\n",
    "    loftq_config = None, # And LoftQ\n",
    ")"
   ]
  },
  {
   "cell_type": "code",
   "execution_count": 4,
   "metadata": {},
   "outputs": [
    {
     "data": {
      "application/vnd.jupyter.widget-view+json": {
       "model_id": "196f0289b1ee47d99848c5ae4b887675",
       "version_major": 2,
       "version_minor": 0
      },
      "text/plain": [
       "data.csv:   0%|          | 0.00/31.5M [00:00<?, ?B/s]"
      ]
     },
     "metadata": {},
     "output_type": "display_data"
    },
    {
     "data": {
      "application/vnd.jupyter.widget-view+json": {
       "model_id": "23e3ae7b9bc844b3990e6605f0eafe9a",
       "version_major": 2,
       "version_minor": 0
      },
      "text/plain": [
       "Generating train split: 0 examples [00:00, ? examples/s]"
      ]
     },
     "metadata": {},
     "output_type": "display_data"
    },
    {
     "data": {
      "text/plain": [
       "DatasetDict({\n",
       "    train: Dataset({\n",
       "        features: ['Unnamed: 0', 'statement', 'status'],\n",
       "        num_rows: 51627\n",
       "    })\n",
       "    test: Dataset({\n",
       "        features: ['Unnamed: 0', 'statement', 'status'],\n",
       "        num_rows: 1054\n",
       "    })\n",
       "})"
      ]
     },
     "execution_count": 4,
     "metadata": {},
     "output_type": "execute_result"
    }
   ],
   "source": [
    "\n",
    "dataset = load_dataset(\"csv\", data_files=\"hf://datasets/btwitssayan/sentiment-analysis-for-mental-health/data.csv\")\n",
    "# Truncate the text in super long statements\n",
    "for i in range(len(dataset['train'])):\n",
    "    if len(dataset['train'][i]['statement']) > 4096:\n",
    "        dataset['train'][i]['statement'] = dataset['train'][i]['statement'][:4096]\n",
    "# Split the dataset into train and test using the split_dataset function\n",
    "# Everything is stored in the 'train' partition by default\n",
    "dataset = dataset['train'].train_test_split(test_size=0.02)\n",
    "dataset\n"
   ]
  },
  {
   "cell_type": "code",
   "execution_count": 5,
   "metadata": {},
   "outputs": [
    {
     "data": {
      "text/plain": [
       "['anxiety',\n",
       " 'bipolar',\n",
       " 'depression',\n",
       " 'personality disorder',\n",
       " 'normal',\n",
       " 'suicidal',\n",
       " 'stress']"
      ]
     },
     "execution_count": 5,
     "metadata": {},
     "output_type": "execute_result"
    }
   ],
   "source": [
    "status_list = []\n",
    "for i in range(len(dataset['train'])):\n",
    "    status_list.append(dataset['train'][i]['status'].lower())\n",
    "class_names = list(set(status_list))\n",
    "class_names"
   ]
  },
  {
   "cell_type": "code",
   "execution_count": 6,
   "metadata": {},
   "outputs": [],
   "source": [
    "classes_str = \", \".join(class_names)\n",
    "instruction = f\"\"\"You are a thoughtful assistant that does sentiment classification and returns one of the following classes: {classes_str}\n",
    "Please only return the class name, not any other text.\"\"\"\n",
    "def format_chat_template(row) -> str:\n",
    "    row_json = [\n",
    "        {\"role\": \"system\", \"content\": instruction},\n",
    "        {\"role\": \"user\", \"content\": row[\"statement\"]},\n",
    "        {\"role\": \"assistant\", \"content\": row[\"status\"]},\n",
    "    ]\n",
    "\n",
    "    # Add to the dataset inplace\n",
    "    row[\"text\"] = tokenizer.apply_chat_template(row_json, tokenize = False, add_generation_prompt = False)\n",
    "    return row"
   ]
  },
  {
   "cell_type": "code",
   "execution_count": 7,
   "metadata": {},
   "outputs": [],
   "source": [
    "tokenizer = get_chat_template(\n",
    "    tokenizer,\n",
    "    chat_template = \"llama-3.1\",\n",
    ")"
   ]
  },
  {
   "cell_type": "code",
   "execution_count": 8,
   "metadata": {},
   "outputs": [
    {
     "data": {
      "application/vnd.jupyter.widget-view+json": {
       "model_id": "b40c4f92c9504f679519b73ebeb7827c",
       "version_major": 2,
       "version_minor": 0
      },
      "text/plain": [
       "Map (num_proc=5):   0%|          | 0/51627 [00:00<?, ? examples/s]"
      ]
     },
     "metadata": {},
     "output_type": "display_data"
    },
    {
     "data": {
      "text/plain": [
       "{'Unnamed: 0': 38770,\n",
       " 'statement': 'although my colleague and bos have been really supportive and nice to me my mind tell me they secretly hate me or just won t express something they don t like of me in the fear that i m new i m socially awkward and many other thing about the job and conversation of the day echo loud in my head in repeat and i just can t think of anything else i scroll through the gram for distraction or read through my astrology happening for the day i don t know how to relax or quiet my mind so many thing bothering me at once',\n",
       " 'status': 'Depression',\n",
       " 'text': '<|begin_of_text|><|start_header_id|>system<|end_header_id|>\\n\\nCutting Knowledge Date: December 2023\\nToday Date: 26 July 2024\\n\\nYou are a thoughtful assistant that does sentiment classification and returns one of the following classes: anxiety, bipolar, depression, personality disorder, normal, suicidal, stress\\nPlease only return the class name, not any other text.<|eot_id|><|start_header_id|>user<|end_header_id|>\\n\\nalthough my colleague and bos have been really supportive and nice to me my mind tell me they secretly hate me or just won t express something they don t like of me in the fear that i m new i m socially awkward and many other thing about the job and conversation of the day echo loud in my head in repeat and i just can t think of anything else i scroll through the gram for distraction or read through my astrology happening for the day i don t know how to relax or quiet my mind so many thing bothering me at once<|eot_id|><|start_header_id|>assistant<|end_header_id|>\\n\\nDepression<|eot_id|>'}"
      ]
     },
     "execution_count": 8,
     "metadata": {},
     "output_type": "execute_result"
    }
   ],
   "source": [
    "# Add a 'text' column to the dataset to be used in fine tuning\n",
    "train_dataset = dataset['train'].map(format_chat_template, num_proc=5)\n",
    "train_dataset[3]"
   ]
  },
  {
   "cell_type": "markdown",
   "metadata": {},
   "source": [
    "### Predict on the test set before training"
   ]
  },
  {
   "cell_type": "code",
   "execution_count": 9,
   "metadata": {},
   "outputs": [
    {
     "name": "stdout",
     "output_type": "stream",
     "text": [
      "1054\n"
     ]
    },
    {
     "data": {
      "text/plain": [
       "[[{'role': 'system',\n",
       "   'content': 'You are a thoughtful assistant that does sentiment classification and returns one of the following classes: anxiety, bipolar, depression, personality disorder, normal, suicidal, stress\\nPlease only return the class name, not any other text.'},\n",
       "  {'role': 'user',\n",
       "   'content': 'Considering suicide again. Shit sucks dick and I am tired of life and being a failure. I cannot keep even a minimum wage job. cannot get my license because I need to work shit out with the sheriffs office before I can (long story). Wish I had access to a gun because my survival instinct makes jumping in front of a train too hard. And there is no bridges high enough that are near me. Just a dumb vent because I had nowhere else to post it. Hope everyone here is coping alright, take care of yourselves In a really dark spot right now, do not know if its the usual where it flares up at night and I am fine in the morning, or if I am getting bad again.'}],\n",
       " [{'role': 'system',\n",
       "   'content': 'You are a thoughtful assistant that does sentiment classification and returns one of the following classes: anxiety, bipolar, depression, personality disorder, normal, suicidal, stress\\nPlease only return the class name, not any other text.'},\n",
       "  {'role': 'user',\n",
       "   'content': 'All this time I thought mew kissed his shoulder gulfðŸ¤£'}]]"
      ]
     },
     "execution_count": 9,
     "metadata": {},
     "output_type": "execute_result"
    }
   ],
   "source": [
    "# Extract some samples from the training data to run inference on before train\n",
    "test_inputs_extracted = []\n",
    "for i in range(len(dataset['test'])):\n",
    "    test_inputs_extracted.append(\n",
    "        [\n",
    "            {\"role\": \"system\", \"content\": instruction},\n",
    "            {\"role\": \"user\", \"content\": dataset['test'][i]['statement']}\n",
    "        ]\n",
    "    )\n",
    "print(len(test_inputs_extracted))\n",
    "test_inputs_extracted[:2]"
   ]
  },
  {
   "cell_type": "code",
   "execution_count": 10,
   "metadata": {},
   "outputs": [],
   "source": [
    "def get_response(text_output):\n",
    "    response_start = \"<|start_header_id|>assistant<|end_header_id|>\\n\\n\"\n",
    "    response_string = text_output[0].split(response_start)[1].replace(\"<|eot_id|>\", \"\").replace(\"<|end_of_text|>\", \"\")\n",
    "    classification = response_string.split()[0].lower()\n",
    "    return classification"
   ]
  },
  {
   "cell_type": "code",
   "execution_count": 11,
   "metadata": {},
   "outputs": [],
   "source": [
    "def predict_from_messages(messages, dataset_mapped, model, batch_size=32, max_length=1024):\n",
    "    predicted_outputs = []\n",
    "    correct_outputs = []\n",
    "    \n",
    "    # Process messages in batches\n",
    "    for i in tqdm(range(0, len(messages), batch_size), desc=\"Predicting\"):\n",
    "        batch_messages = messages[i:i + batch_size]\n",
    "        \n",
    "        # Process all messages in batch at once with padding and truncation\n",
    "        batch_inputs = tokenizer.apply_chat_template(\n",
    "            batch_messages,\n",
    "            tokenize = True,\n",
    "            add_generation_prompt = True,\n",
    "            return_tensors = \"pt\",\n",
    "            padding = True,           # Add padding\n",
    "            truncation = True,        # Add truncation\n",
    "            max_length = max_length,        # Set max length to match your model's config\n",
    "        ).to(\"cuda\")\n",
    "\n",
    "        # Add attention mask to tell model which tokens to ignore\n",
    "        attention_mask = (batch_inputs != tokenizer.pad_token_id).to(\"cuda\")\n",
    "\n",
    "        # Generate for entire batch at once\n",
    "        batch_outputs = model.generate(\n",
    "            input_ids = batch_inputs,\n",
    "            attention_mask = attention_mask,\n",
    "            max_new_tokens = 64,\n",
    "            use_cache = True,\n",
    "            temperature = 1.0,\n",
    "            min_p = 0.2\n",
    "        )\n",
    "        \n",
    "        # Decode all outputs in batch\n",
    "        batch_text_outputs = tokenizer.batch_decode(batch_outputs)\n",
    "\n",
    "        # Clear memory for this batch\n",
    "        del batch_inputs, batch_outputs\n",
    "        torch.cuda.empty_cache()\n",
    "        \n",
    "        # Process each output in the batch\n",
    "        for j, text_output in enumerate(batch_text_outputs):\n",
    "            try: \n",
    "                predicted_outputs.append(get_response([text_output]))  # Note: wrapped in list since get_response expects list\n",
    "            except(Exception) as e:\n",
    "                print(\"Error in get_response...\\n\")\n",
    "                print(i, j, text_output)\n",
    "                print(e)\n",
    "                continue\n",
    "            correct_output = dataset_mapped[i + j]['status']\n",
    "            correct_outputs.append(correct_output.lower())\n",
    "\n",
    "    torch.cuda.empty_cache()\n",
    "    \n",
    "    return predicted_outputs, correct_outputs"
   ]
  },
  {
   "cell_type": "code",
   "execution_count": 12,
   "metadata": {},
   "outputs": [],
   "source": [
    "def count_correct(predicted_outputs, correct_outputs, original_dataset):\n",
    "    correct_count = 0\n",
    "    for i in range(len(predicted_outputs)):\n",
    "        if predicted_outputs[i] == correct_outputs[i]:\n",
    "            correct_count += 1\n",
    "        # Print every 50th statement\n",
    "        if i % 50 == 0:\n",
    "            print(original_dataset[i]['statement'], \":  \", predicted_outputs[i], \"  \", correct_outputs[i])\n",
    "    print(\"Accuracy: \", correct_count / len(predicted_outputs))\n"
   ]
  },
  {
   "cell_type": "markdown",
   "metadata": {},
   "source": []
  },
  {
   "cell_type": "code",
   "execution_count": 13,
   "metadata": {},
   "outputs": [
    {
     "name": "stderr",
     "output_type": "stream",
     "text": [
      "Predicting:  14%|█▎        | 9/66 [00:31<02:42,  2.85s/it]"
     ]
    },
    {
     "name": "stdout",
     "output_type": "stream",
     "text": [
      "Error in get_response...\n",
      "\n",
      "128 10 <|begin_of_text|><|start_header_id|>system<|end_header_id|>\n",
      "\n",
      "Cutting Knowledge Date: December 2023\n",
      "Today Date: 26 July 2024\n",
      "\n",
      "You are a thoughtful assistant that does sentiment classification and returns one of the following classes: anxiety, bipolar, depression, personality disorder, normal, suicidal, stress\n",
      "Please only return the class name, not any other text.<|eot_id|><|start_header_id|>user<|end_header_id|>\n",
      "\n",
      "My entire life has spontaneously combusted over the last couple of months. A 7-year relationship that I moved across the country for four years ago ended suddenly. My ex-partner, my best friend in the world, within a month of our breakup, started dating a mutual friend who has spent the entirety of the pandemic harassing, bullying, manipulating, and gaslighting our friends -- conveniently, everyone but my partner. She has been aware of this, to the extent that I have been comfortable confiding in her, because this friend has been making many of us feel like *garbage*. Meanwhile she is only gotten closer to them as they have driven a wedge between themselves and the rest of us, and the way she describes them is exactly the opposite of how the rest of us experience them; she excuses their behavior easily with things they have told her, but she does not see how a million separate excuses for individual examples of horrible behavior add up to a really ugly picture of a pathological liar and manipulator.And now, suddenly within a month of our breakup, they are fucking. Meanwhile I am trying and failing to find a place to live and a place to work. My best lead on an apartment right now needs me to have a job (I was high risk for covid and went on unemployment and have been struggling to find work), I finally gave up after getting absolutely no responses and applied at a cafe my friend works at, lowering my standards down to the fucking floor. But the commute there is an hour both ways by bus (despite being a 15-minute drive).I am going to end up in an apartment alone (which scares me; I have been depressed my whole life and have a LOT of trouble with it when I am by myself, I cannot do any repetitive tasks without someone to talk to without cycling through suicidal thoughts even at the best of times), without my cat (she is taking the cat because she can afford to, I cannot), losing my insurance (when I left my job due to the pandemic our domestic partnership let me be added to hers) and thus losing my therapist (who was out of network for months, who I would been paying out of pocket for the whole time, $175 per week which I could not afford, who was FINALLY very recently paneled by my insurance and was added to it), just as I am finally coming to terms with a lot of the gender issues and dysphoria I have dealt with my entire life (which my partner helped me through a lot of, and I was just, finally sitting on the precipice of a lot of positive change).Even after we broke up, she wanted to keep living with me. We found a perfect place. We applied, got accepted, they wrote the lease, sent it to us, and *then* she decided she wanted to live alone. She started spending more time with our abusive friend. They started dating, which is an *insane* rebound (less than a month after the end of a 7-year relationship?) and just... extremely insensitive to me (generally I find it shitty to date within a friend group, but to date a friend's recent long-term ex is about a thousand steps too far), and she even realizes this. She told me that, yeah, it was shitty. But she needed to do something for herself, to make herself happy.I am depressed. I have a low opinion of myself. I have a habit of telling myself that I deserve bad things. But I did not deserve *that*. I know I did not. *I am still living with my ex because we are still on this lease; they could not even wait until we lived separately*.I was in a horrible pit of depression during the pandemic. Shit kept going wrong. My mom attempted suicide right beforehand, it started right when I almost landed a new job, then George Floyd and protests and wildfires and a thousand things, and I just sort of shut down due to depression. She felt like she was carrying the weight for both of us. Which is fair. I wish I would been more... conscious, I guess.But to do something so immediate, so callous, so thoughtless, and then to tell me to my face that she recognizes that it is shitty but she does not care, *and* that she wants us to still be best friends despite it.She knows how I feel about them, has for a long time. she is always been my best friend, and I confided in her when I was afraid and confused and did not yet know the rest of our friends were experiencing the same thing. She knows how they have hurt me, hurt our other friends. She just keeps repeating the excuses they have given her.I am going to be stuck in a shitty job with two hours of commuting each day. I am going to be stuck alone in an apartment. I am not going to have the mental energy to do things I want to do: I had just outlined most of a novel series, I was ready to start writing it right before the breakup; I will not have the mental capacity or time to find another fucking job. I had just been grappling with this gender dysphoria and was looking into transitioning. I do not know that I can do that alone. I do not know that I can do *anything* if I am spending 11 hours of my day, 5 days a week traveling and working. My supposed best friend honestly just fucking betrayed me; her leaving suddenly hurt, but jumping in bed with the last fucking person in the world I would ever be comfortable around, someone she knows well has hurt me. I had already been grappling with her dating other people because she said she wanted to start dating casually; I had wrapped my head around it, she said it would be a long time before she could even think about entering another actual relationship... and then, suddenly, she starts fucking an abusive, manipulative, horrible presence in my life, someone our friends have been working up to a confrontation with as they continue to sink their teeth in.I just do not know her anymore. she is a completely different person. I cannot understand what she sees in them, I cannot understand why she is doing any of this, it all came out of nowhere, and I cannot see my life getting any better from here. It feels like my life is over. It feels like I have nothing. Even our friend group is fracturing because of this fucking manipulative bastard sitting in the middle of it, laughing while they tear people down around them. I have no motivation. I am confused. I am lost. I am empty. I feel like I keep falling off of cliffs, one after another.I could move back east, live with my mom again. she is been asking me to do that the whole four years I have lived out west. She cries. She says she is depressed, has nothing without me, that she does not know what to do without me. But living with her was miserable. I could not do anything. I could not flourish. And then after 3 years of long distance I moved out west, giving up everything, and then I *did* flourish. For 4 years I grew and became something. I felt at home, at peace, I had a partner who I loved more than anything. We were a team, we were adventuring companions, we were each other's home.And now that is all gone. I do not know what to do. I do not know where to go from here. I feel empty and lost and shitty and I am stuck with the reality of this person who is been nothing but horrible to my friends and I running off with the woman I love, seemingly developing an entire false personality that is completely the opposite of how they behave whenever she is not around. they are the one fucking person in the world I could not handle her leaving me for. And fucking talking about them makes me feel insane, because \"developing an entire separate personality for the sake of manipulation\" sounds fucking crazy, it is something I would not believe at all if it is not something I was witnessing with my own eyes, and had not already seen my father do for years, and if I was the only one seeing it. But I am not. A number of us do.I just want to wake up. I just want to wake up from this dream. I gave everything for this relationship and now I have nothing. She still wants to be friends, she calls me her best friend, but friends do not act this callous, and I do not know how to be friends with someone who makes me feel this betrayed, this empty, this desperate and lonely and horrible.I do not want to be stuck in an apartment by myself, in a dead-end job that eats up half of every day. I do not want to be stuck with my overbearing mom again. I do not want to be stuck with strangers. Everyone I know is on a lease. None of these situations offer me the time or freedom or energy to be the person I have been fighting to become. I cannot imagine a version of the future that has any kindness, any hope. I have no motivation. I have had a knot in my gut for weeks that will not go away. I want this abuser out of my life. I want my best friend to at least act with some compassion. I want my cat. I want to feel home again, I want to feel family. I want to be able to eat without feeling sick.I want one more night where we sit together in bed reading separate books, and to turn off the lights to hold each other close. I want to go home again. I want to wake up from this fucking nightmare reality that I am stuck in.<|eot_id|>\n",
      "list index out of range\n"
     ]
    },
    {
     "name": "stderr",
     "output_type": "stream",
     "text": [
      "Predicting: 100%|██████████| 66/66 [02:46<00:00,  2.53s/it]\n"
     ]
    }
   ],
   "source": [
    "# Run inference on some of the training data before training happens\n",
    "FastLanguageModel.for_inference(model) # Enable native 2x faster inference\n",
    "test_dataset = dataset['test']\n",
    "predicted_outputs, correct_outputs = predict_from_messages(test_inputs_extracted, test_dataset, model, 16, 2048)"
   ]
  },
  {
   "cell_type": "code",
   "execution_count": 14,
   "metadata": {},
   "outputs": [
    {
     "name": "stdout",
     "output_type": "stream",
     "text": [
      "suicidal\n",
      "suicidal\n"
     ]
    }
   ],
   "source": [
    "idx = 0\n",
    "print(predicted_outputs[idx])\n",
    "print(correct_outputs[idx])"
   ]
  },
  {
   "cell_type": "code",
   "execution_count": 15,
   "metadata": {},
   "outputs": [
    {
     "name": "stdout",
     "output_type": "stream",
     "text": [
      "Considering suicide again. Shit sucks dick and I am tired of life and being a failure. I cannot keep even a minimum wage job. cannot get my license because I need to work shit out with the sheriffs office before I can (long story). Wish I had access to a gun because my survival instinct makes jumping in front of a train too hard. And there is no bridges high enough that are near me. Just a dumb vent because I had nowhere else to post it. Hope everyone here is coping alright, take care of yourselves In a really dark spot right now, do not know if its the usual where it flares up at night and I am fine in the morning, or if I am getting bad again. :   suicidal    suicidal\n",
      "when all you can feel is you re failing at everything failure failure failure so you give up and you attempt to end it all and even fail at that how am i supposed to feel then :   suicidal    depression\n",
      "This is my first time posting on here. I did not really think I was depressed before, but now I do not know. I do not have anything special to say. I manage to go to work, pay the bills, but damn anything besides that and drinking is real hard. I feel like I should be trying harder, but for what? I wish I felt it was worth it. I know my family is worth it, I guess, but I do not know if I can do it for me. Anyways, you, thanks for listening, hope to see you tomorrow. Is it supposed to be this hard? :   stress    depression\n",
      "It turns out they had been giving our grandparents a very idyllic, picturesque idea of what life in the church was like and my grandmother hated herself for a long time for not knowing what the truth was, even though there's no way she could have. I'm now I'm college and in therapy. My sister was younger than me and doesn't have quite as much baggage from it all, I don't think she remembers as much or maybe she blocked more of it out, another small mercy, but she still has deep issues and acts out in really inappropriate ways. I've found a measure of happiness. Edited for spelling and sentence structure. :   depression    suicidal\n",
      "kenjaku flop :   anxiety    depression\n",
      "We are investigating social anxiety, perfectionism, and thinking styles, and we are interested in your insight. Hi everyone, I'm a PhD candidate in clinical psychology and I'm currently conducting a survey on social anxiety, perfectionism, and thinking styles. I would love to hear from you! The survey is open to anyone aged 18+. It should take about 30 mins to complete, and you have the option to enter a 1 of 4 $50 Visa gift card draw at the end.\n",
      "\n",
      "Link to the survey: https://qualtrics.flinders.edu.au/jfe/form/SV_cVfmOOF57d75gHj Thanks! :   stress    normal\n",
      "day to do day work :   normal    normal\n",
      "Hey, what is this person who has been sent on the task of Sunday LPS but said thank you for sending the date, the pound was wrong, ey :   suicidal    suicidal\n",
      "I honestly do not understand it myself. Maybe its my stupid monke brain that is just missing people, a real person. One person I chose to be around, not my family or the hateful people I am forced to be around at school. Someone that I would not jump out a window to avoid in public. It just makes me sad to realise I am probably not going to meet a person like that. I do not like to socialise but I am lonely :   suicidal    suicidal\n",
      "My family stripped me of my worth from birth and now I have been burdened with unending pain. There are a million glimmering stars of hope, but the sky is up there, and I am down here. I am not worthy of the heavens. I am not worthy of my gods. I am not worthy of forgiveness.It does not matter if I might be happy a couple of years from now. I have spent half of my short lifespan in agony that stole any chance I had at getting to enjoy my childhood. The thought of bearing another year of this, or even another month, is a burning hot misery.I deny this torment. I do not wish to exist anymore. I have stood right at the veil and pushed my fingers against it, but I never managed to open it with. I think I will open the veil. It may be, that I need a couple more days. To get my farewells in order.I am not worthy of this world. I am not worthy of your pity. I do not even know why I am writing this. I will just decay :   stress    normal\n",
      "Is anyone else scared that they are going to ban tiktok? It scares me that they're thinking of banning tiktok. Tiktok has been one of the only things that can calm down my anxiety and make me not stressed. :   anxiety    personality disorder\n",
      "Engene only, anyone want to be transported to the back up acc? :   normal    depression\n",
      "I'm relapsing on my past HA, at least right now. [Long post] In October of 2017, I had my first actual panic attack and it was massive. I never figured out where it came from, but I ended up in the ER for fear of a heart attack. Had all the symptoms just about. This occurred about 2-3 more times within a week or two and it got to the point that the doctor got frustrated and told me I was wasting the ERs time and money on potential people who may actually need it and gave me a low amount of Xanax and a referral for a therapist. After then, I had lingering chest pains for seemingly 24/7, so I also went to a cardiologist and did several tests from ecgs/EKGs to wearing a heart monitor for varying times, with one month being the longest. Turns out my heart was 100% healthy and the healthiest he had seen in years, which was surprising considering I was a smoker and drank too much caffeine and drank a bit too much. I still smoke, drink caffeine and drink here and there but I've cut down tremendously since. I was in therapy for 6 months. It mostly involved us talking things through, but we also got to a point where I would try to purposely induce attacks so we could with through them together in order to learn how I can tackle them by myself. Another thing we did that helped was write down my current health fears (biggest one was fearing a brain aneurysm would come at any time because of my constant headaches and ice pick headaches) and I would also write why it was making me scared. Then I would come back for my next visit two weeks later and she'd have me read what I wrote and it always sounded insane but never ever for me to stop being worried entirely, but overtime it got better. I was diagnosed with hypochondria/health illness anxiety. I have since moved to California after being in therapy for 6 months. For whatever reason, it was like a complete 180, from worrying about it all the time to not worrying about it much at all anymore. I would still get some attacks here and there but I always managed them one way or another.\n",
      "\n",
      "Lately, I've just been more down than usual and I plan on seeing another therapist to try and tackle that, but I think it's partially making the hypochondriac I am come back out. Example: about two nights ago, I was getting ready to take a nap, but I was on my phone for a few, getting settled, propping myself with my right hand/arm on my side. Later, I would wake up and I started gaming a bit after, but I noticed my upper right arm and lower shoulder have sharp pains after moving it a few certain ways. I brushed it off because I figured, \"I probably put too much strain on it when I was on my side before my nap\". Well it's been a few nights now or so and while it hasn't gotten worse, it hasn't gotten better, I think. Fine, whatever. But then I noticed pains in my forearm, closer to my wrist that would come and go slightly. Then I started feeling that later in my right forearm. Today I was pulling weeds and when I got back up, my shins had sharp pains for a few minutes. I was feeling off and light-headed and thought I may be dehydrated because I drank last night and didn't really do a good job keeping myself hydrated then. So I did the worst thing possible - I googled dehydration symptoms. When it becomes \"severe\" and should seek help, etc. Granted this was just all on the same page, but I didn't have to read it. I legit just wasn't sure if it was dehydration and it did more hurt than it helped. I'm feeling better after some water, but now while I'm not constantly Googling anything on the exception to see what the symptoms of dehydration were and effects it could have on the body, I'm fighting that feeling of being worried about the pains I mentioned above. If it was just the shoulder pain, or just the here and there forearm pain or the mild discomfort I feel in my fingers... basically if I just wasn't feeling pain in varying intensities and one or two areas, I could easily reason with myself.\n",
      "\n",
      "I haven't seen my doctor in a couple months and I'm going to make an appointment in the morning and talk with her about it and see what we can do, as well as probably set up to see another therapist for what I'm assuming to be depression. But I'm feeling myself slipping again and I'm not ready to deal with even a fraction of what I dealt with before. :   stress    depression\n",
      "$140. i can't believe it. :   stress    depression\n",
      "Asu jajajabkabakab :   normal    normal\n",
      "I am not quite suicidal, but I am not quite okay. I am I am limbo. I lay in bed, trying to sleep and I have so much anxiety about going to work. Numb from depression. My family wants to celebrate Christmas in July, and usually Christmas songs and movies give me that warm fuzzy childhood feeling. I feel void. I lay in bed, I do not want to face the day. I want to sleep. Stay in bed. I think if I die, my problems would go away. But at the same time, I do not want to die. I want to enjoy life. I sink to that level of borderline SI, but then I go back to thinking how I could improve my life.Today, I got a friend request from my cousin. you would think that would cheer me up. No. It made me more depressed and feeling useless. The reason? Three week ago, I sent her a friend request. No reply. No response. I assumed she just does not check her social media often. However, it occurred to me today. If she sent me a friend request, that means she declined my friend request 3 weeks ago. Otherwise, it would have said she accepted my friend request. That means, she must have felt guilty and friended me out of obligation. My own family does not care about me or my life. Her first instinct was to not friend me. I am lost. Any advice? I am in Limbo. Anyone Relate? :   anxiety    normal\n",
      "I wish I could live in a fictional tv show you know one of those shows where everybody is attractive including myself any problem I have gets solved within a hour. I have great friends that do not back stab me I also have a beautiful girlfriend that holds my hand in public and gives me hugs and kiss all the time. Christmas would be awesome I would not be alone I would be with all of them I also would have a passion job that I love like a lead singer of a band. Anyways... back to reality that soul crushing feeling hits hard knowing that my real reality is a damn nightmare I cannot wake up out of. I wish I could live in a fictional tv show :   normal    stress\n",
      "I’m tired of being a broke girl I really wish there was a way to make quick money without working or having a business. Because with those, you still have to wait for payment even in emergency situations. With loan companies, they either deny you or take you through a million applications just to steal your info. I’m tired of living this hard life :   normal    normal\n",
      "8 Simple Tactics to improve your personality  \n",
      "\n",
      "Personality is defined as the collection of behavior, attitude, and ways of expressing emotions that makes a person unique. We can identify if a person is with a good personality or not based on the outer expression of inner feelings. If you want to become a better and successful person in life, be it professional or personal, building up on personality is a good place to start.\n",
      "\n",
      "How is our personality developed? Our childhood environment and surrounding people i.e outer world influence our personality…[CONTINUE READING](https://feellitent.wordpress.com/2022/12/26/8-simple-tactics-to-boost-your-personality/) :   normal    normal\n",
      "What are your hobbies? :   stress    depression\n",
      "I cannot shake this feeling that my friend is using me to buy them things? I told them I already spent a gargantuan amount of money on my new car, a game for them, and some other essentials I need (such as meds etc., etc.,). Not to mention some other expensive things I have bought for them in the past. But they kept dismissing me saying Ill have the money by the holidays, when I tried to say no. They also said (and I am do not know if they were joking) that I cannot disappoint them this year. They also have not been on their medication lately so their playful insults come at me more often. Which honestly triggered my depression enough to contemplate well.... you know..I really do not know what to do.... I feel like my friend is using me for materialistic items and money... :   depression    suicidal\n",
      "I posted on here before but it is just getting harder and harder. I definitely do not impact anyone's life in any way. I do not have any close friends. If I was ever in trouble, I would not have anyone to call. I feel so worthless and gross and disgusting. I feel like everyone hates me and wishes they never met me.If I could leave this world and everyone could forget I ever existed, I would. I wish everyone could forget me. :   normal    anxiety\n",
      "Accuracy:  0.47198480531813863\n"
     ]
    }
   ],
   "source": [
    "count_correct(predicted_outputs, correct_outputs, test_dataset)"
   ]
  },
  {
   "cell_type": "markdown",
   "metadata": {},
   "source": [
    "### Run the actual training process"
   ]
  },
  {
   "cell_type": "code",
   "execution_count": 16,
   "metadata": {},
   "outputs": [
    {
     "data": {
      "application/vnd.jupyter.widget-view+json": {
       "model_id": "4d95d7c78f134333bad9444ae03594fd",
       "version_major": 2,
       "version_minor": 0
      },
      "text/plain": [
       "Map (num_proc=4):   0%|          | 0/51627 [00:00<?, ? examples/s]"
      ]
     },
     "metadata": {},
     "output_type": "display_data"
    }
   ],
   "source": [
    "\n",
    "\n",
    "trainer = SFTTrainer(\n",
    "    model = model,\n",
    "    tokenizer = tokenizer,\n",
    "    train_dataset = train_dataset,\n",
    "    dataset_text_field = \"text\",\n",
    "    max_seq_length = max_seq_length,\n",
    "    data_collator = DataCollatorForSeq2Seq(tokenizer = tokenizer),\n",
    "    dataset_num_proc = 4,\n",
    "    packing = False, # Can make training 5x faster for short sequences.\n",
    "    args = TrainingArguments(\n",
    "        per_device_train_batch_size = 16,\n",
    "        gradient_accumulation_steps = 2,\n",
    "        warmup_steps = 5,\n",
    "        num_train_epochs = 1, # Set this for 1 full training run.\n",
    "        # max_steps = 100,\n",
    "        learning_rate = 2e-4,\n",
    "        fp16 = not is_bfloat16_supported(),\n",
    "        bf16 = is_bfloat16_supported(),\n",
    "        logging_steps = 50,\n",
    "        optim = \"adamw_8bit\",\n",
    "        weight_decay = 0.01,\n",
    "        lr_scheduler_type = \"linear\",\n",
    "        seed = 3407,\n",
    "        output_dir = \"outputs\",\n",
    "        report_to = \"none\", # Use this for WandB etc\n",
    "    ),\n",
    ")"
   ]
  },
  {
   "cell_type": "code",
   "execution_count": 17,
   "metadata": {},
   "outputs": [
    {
     "data": {
      "application/vnd.jupyter.widget-view+json": {
       "model_id": "7c01f9d1ff584e869df45fd77857b6e8",
       "version_major": 2,
       "version_minor": 0
      },
      "text/plain": [
       "Map:   0%|          | 0/51627 [00:00<?, ? examples/s]"
      ]
     },
     "metadata": {},
     "output_type": "display_data"
    }
   ],
   "source": [
    "# This makes the model train only on the losss from the outputs/classifications\n",
    "\n",
    "trainer = train_on_responses_only(\n",
    "    trainer,\n",
    "    instruction_part = \"<|start_header_id|>user<|end_header_id|>\\n\\n\",\n",
    "    response_part = \"<|start_header_id|>assistant<|end_header_id|>\\n\\n\",\n",
    ")"
   ]
  },
  {
   "cell_type": "code",
   "execution_count": 1,
   "metadata": {},
   "outputs": [
    {
     "ename": "NameError",
     "evalue": "name 'tokenizer' is not defined",
     "output_type": "error",
     "traceback": [
      "\u001b[0;31m---------------------------------------------------------------------------\u001b[0m",
      "\u001b[0;31mNameError\u001b[0m                                 Traceback (most recent call last)",
      "Cell \u001b[0;32mIn[1], line 2\u001b[0m\n\u001b[1;32m      1\u001b[0m \u001b[38;5;66;03m# Check that training is correclty splitting out the instruction and response\u001b[39;00m\n\u001b[0;32m----> 2\u001b[0m \u001b[38;5;28mprint\u001b[39m(\u001b[43mtokenizer\u001b[49m\u001b[38;5;241m.\u001b[39mdecode(trainer\u001b[38;5;241m.\u001b[39mtrain_dataset[\u001b[38;5;241m5\u001b[39m][\u001b[38;5;124m\"\u001b[39m\u001b[38;5;124minput_ids\u001b[39m\u001b[38;5;124m\"\u001b[39m]))\n\u001b[1;32m      3\u001b[0m space \u001b[38;5;241m=\u001b[39m tokenizer(\u001b[38;5;124m\"\u001b[39m\u001b[38;5;124m \u001b[39m\u001b[38;5;124m\"\u001b[39m, add_special_tokens \u001b[38;5;241m=\u001b[39m \u001b[38;5;28;01mFalse\u001b[39;00m)\u001b[38;5;241m.\u001b[39minput_ids[\u001b[38;5;241m0\u001b[39m]\n\u001b[1;32m      4\u001b[0m \u001b[38;5;28mprint\u001b[39m(tokenizer\u001b[38;5;241m.\u001b[39mdecode([space \u001b[38;5;28;01mif\u001b[39;00m x \u001b[38;5;241m==\u001b[39m \u001b[38;5;241m-\u001b[39m\u001b[38;5;241m100\u001b[39m \u001b[38;5;28;01melse\u001b[39;00m x \u001b[38;5;28;01mfor\u001b[39;00m x \u001b[38;5;129;01min\u001b[39;00m trainer\u001b[38;5;241m.\u001b[39mtrain_dataset[\u001b[38;5;241m5\u001b[39m][\u001b[38;5;124m\"\u001b[39m\u001b[38;5;124mlabels\u001b[39m\u001b[38;5;124m\"\u001b[39m]]))\n",
      "\u001b[0;31mNameError\u001b[0m: name 'tokenizer' is not defined"
     ]
    }
   ],
   "source": [
    "# Check that training is correclty splitting out the instruction and response\n",
    "print(tokenizer.decode(trainer.train_dataset[5][\"input_ids\"]))\n",
    "space = tokenizer(\" \", add_special_tokens = False).input_ids[0]\n",
    "print(tokenizer.decode([space if x == -100 else x for x in trainer.train_dataset[5][\"labels\"]]))"
   ]
  },
  {
   "cell_type": "code",
   "execution_count": 19,
   "metadata": {},
   "outputs": [
    {
     "name": "stderr",
     "output_type": "stream",
     "text": [
      "==((====))==  Unsloth - 2x faster free finetuning | Num GPUs = 1\n",
      "   \\\\   /|    Num examples = 51,627 | Num Epochs = 1\n",
      "O^O/ \\_/ \\    Batch size per device = 16 | Gradient Accumulation steps = 2\n",
      "\\        /    Total batch size = 32 | Total steps = 1,613\n",
      " \"-____-\"     Number of trainable parameters = 24,313,856\n"
     ]
    },
    {
     "data": {
      "text/html": [
       "\n",
       "    <div>\n",
       "      \n",
       "      <progress value='747' max='1613' style='width:300px; height:20px; vertical-align: middle;'></progress>\n",
       "      [ 747/1613 1:35:25 < 1:50:55, 0.13 it/s, Epoch 0.46/1]\n",
       "    </div>\n",
       "    <table border=\"1\" class=\"dataframe\">\n",
       "  <thead>\n",
       " <tr style=\"text-align: left;\">\n",
       "      <th>Step</th>\n",
       "      <th>Training Loss</th>\n",
       "    </tr>\n",
       "  </thead>\n",
       "  <tbody>\n",
       "    <tr>\n",
       "      <td>50</td>\n",
       "      <td>0.405400</td>\n",
       "    </tr>\n",
       "    <tr>\n",
       "      <td>100</td>\n",
       "      <td>0.195500</td>\n",
       "    </tr>\n",
       "    <tr>\n",
       "      <td>150</td>\n",
       "      <td>0.160100</td>\n",
       "    </tr>\n",
       "    <tr>\n",
       "      <td>200</td>\n",
       "      <td>0.152000</td>\n",
       "    </tr>\n",
       "    <tr>\n",
       "      <td>250</td>\n",
       "      <td>0.143400</td>\n",
       "    </tr>\n",
       "    <tr>\n",
       "      <td>300</td>\n",
       "      <td>0.133700</td>\n",
       "    </tr>\n",
       "    <tr>\n",
       "      <td>350</td>\n",
       "      <td>0.131700</td>\n",
       "    </tr>\n",
       "    <tr>\n",
       "      <td>400</td>\n",
       "      <td>0.123300</td>\n",
       "    </tr>\n",
       "    <tr>\n",
       "      <td>450</td>\n",
       "      <td>0.114000</td>\n",
       "    </tr>\n",
       "    <tr>\n",
       "      <td>500</td>\n",
       "      <td>0.099900</td>\n",
       "    </tr>\n",
       "    <tr>\n",
       "      <td>550</td>\n",
       "      <td>0.100300</td>\n",
       "    </tr>\n",
       "    <tr>\n",
       "      <td>600</td>\n",
       "      <td>0.105400</td>\n",
       "    </tr>\n",
       "    <tr>\n",
       "      <td>650</td>\n",
       "      <td>0.107200</td>\n",
       "    </tr>\n",
       "    <tr>\n",
       "      <td>700</td>\n",
       "      <td>0.098500</td>\n",
       "    </tr>\n",
       "  </tbody>\n",
       "</table><p>"
      ],
      "text/plain": [
       "<IPython.core.display.HTML object>"
      ]
     },
     "metadata": {},
     "output_type": "display_data"
    }
   ],
   "source": [
    "# Run the actual training process\n",
    "# 2:21 minutes on the 4070 Ti Super\n",
    "FastLanguageModel.for_training(model) # Enable native 2x faster inference\n",
    "trainer_stats = trainer.train()"
   ]
  },
  {
   "cell_type": "code",
   "execution_count": 32,
   "metadata": {},
   "outputs": [
    {
     "data": {
      "text/plain": [
       "('sentiment_tuned_llama_3.2_3b/tokenizer_config.json',\n",
       " 'sentiment_tuned_llama_3.2_3b/special_tokens_map.json',\n",
       " 'sentiment_tuned_llama_3.2_3b/tokenizer.json')"
      ]
     },
     "execution_count": 32,
     "metadata": {},
     "output_type": "execute_result"
    }
   ],
   "source": [
    "model.save_pretrained(\"sentiment_tuned_llama_3.2_3b\")  # Local saving\n",
    "tokenizer.save_pretrained(\"sentiment_tuned_llama_3.2_3b\")"
   ]
  },
  {
   "cell_type": "code",
   "execution_count": 12,
   "metadata": {},
   "outputs": [
    {
     "name": "stdout",
     "output_type": "stream",
     "text": [
      "==((====))==  Unsloth 2025.1.5: Fast Llama patching. Transformers: 4.48.0.\n",
      "   \\\\   /|    GPU: NVIDIA GeForce RTX 4070 Ti SUPER. Max memory: 15.692 GB. Platform: Linux.\n",
      "O^O/ \\_/ \\    Torch: 2.5.1+cu124. CUDA: 8.9. CUDA Toolkit: 12.4. Triton: 3.1.0\n",
      "\\        /    Bfloat16 = TRUE. FA [Xformers = 0.0.29.post1. FA2 = False]\n",
      " \"-____-\"     Free Apache license: http://github.com/unslothai/unsloth\n",
      "Unsloth: Fast downloading is enabled - ignore downloading bars which are red colored!\n"
     ]
    },
    {
     "name": "stderr",
     "output_type": "stream",
     "text": [
      "Device supports bfloat16 but you selected float16. Will change to bfloat16.\n"
     ]
    }
   ],
   "source": [
    "if True:\n",
    "    model, tokenizer = FastLanguageModel.from_pretrained(\n",
    "        model_name = \"sentiment_tuned_llama_3.2_3b\", # YOUR MODEL YOU USED FOR TRAINING\n",
    "        max_seq_length = 2048,\n",
    "        dtype = \"float16\",\n",
    "        load_in_4bit = True,\n",
    "    )\n",
    "    FastLanguageModel.for_inference(model) # Enable native 2x faster inference\n",
    "\n",
    "messages = [\n",
    "    {\"role\": \"user\", \"content\": \"Describe a tall tower in the capital of France.\"},\n",
    "]\n",
    "inputs = tokenizer.apply_chat_template(\n",
    "    messages,\n",
    "    tokenize = True,\n",
    "    add_generation_prompt = True, # Must add for generation\n",
    "    return_tensors = \"pt\",\n",
    ").to(\"cuda\")"
   ]
  },
  {
   "cell_type": "code",
   "execution_count": 15,
   "metadata": {},
   "outputs": [
    {
     "name": "stderr",
     "output_type": "stream",
     "text": [
      "Predicting:  14%|█▎        | 9/66 [00:20<03:11,  3.37s/it]"
     ]
    },
    {
     "name": "stdout",
     "output_type": "stream",
     "text": [
      "128 10 <|begin_of_text|><|start_header_id|>system<|end_header_id|>\n",
      "\n",
      "Cutting Knowledge Date: December 2023\n",
      "Today Date: 26 July 2024\n",
      "\n",
      "You are a thoughtful assistant that does sentiment classification and returns one of the following classes: suicidal, personality disorder, normal, anxiety, depression, stress, bipolar\n",
      "Please only return the class name, not any other text.<|eot_id|><|start_header_id|>user<|end_header_id|>\n",
      "\n",
      "My entire life has spontaneously combusted over the last couple of months. A 7-year relationship that I moved across the country for four years ago ended suddenly. My ex-partner, my best friend in the world, within a month of our breakup, started dating a mutual friend who has spent the entirety of the pandemic harassing, bullying, manipulating, and gaslighting our friends -- conveniently, everyone but my partner. She has been aware of this, to the extent that I have been comfortable confiding in her, because this friend has been making many of us feel like *garbage*. Meanwhile she is only gotten closer to them as they have driven a wedge between themselves and the rest of us, and the way she describes them is exactly the opposite of how the rest of us experience them; she excuses their behavior easily with things they have told her, but she does not see how a million separate excuses for individual examples of horrible behavior add up to a really ugly picture of a pathological liar and manipulator.And now, suddenly within a month of our breakup, they are fucking. Meanwhile I am trying and failing to find a place to live and a place to work. My best lead on an apartment right now needs me to have a job (I was high risk for covid and went on unemployment and have been struggling to find work), I finally gave up after getting absolutely no responses and applied at a cafe my friend works at, lowering my standards down to the fucking floor. But the commute there is an hour both ways by bus (despite being a 15-minute drive).I am going to end up in an apartment alone (which scares me; I have been depressed my whole life and have a LOT of trouble with it when I am by myself, I cannot do any repetitive tasks without someone to talk to without cycling through suicidal thoughts even at the best of times), without my cat (she is taking the cat because she can afford to, I cannot), losing my insurance (when I left my job due to the pandemic our domestic partnership let me be added to hers) and thus losing my therapist (who was out of network for months, who I would been paying out of pocket for the whole time, $175 per week which I could not afford, who was FINALLY very recently paneled by my insurance and was added to it), just as I am finally coming to terms with a lot of the gender issues and dysphoria I have dealt with my entire life (which my partner helped me through a lot of, and I was just, finally sitting on the precipice of a lot of positive change).Even after we broke up, she wanted to keep living with me. We found a perfect place. We applied, got accepted, they wrote the lease, sent it to us, and *then* she decided she wanted to live alone. She started spending more time with our abusive friend. They started dating, which is an *insane* rebound (less than a month after the end of a 7-year relationship?) and just... extremely insensitive to me (generally I find it shitty to date within a friend group, but to date a friend's recent long-term ex is about a thousand steps too far), and she even realizes this. She told me that, yeah, it was shitty. But she needed to do something for herself, to make herself happy.I am depressed. I have a low opinion of myself. I have a habit of telling myself that I deserve bad things. But I did not deserve *that*. I know I did not. *I am still living with my ex because we are still on this lease; they could not even wait until we lived separately*.I was in a horrible pit of depression during the pandemic. Shit kept going wrong. My mom attempted suicide right beforehand, it started right when I almost landed a new job, then George Floyd and protests and wildfires and a thousand things, and I just sort of shut down due to depression. She felt like she was carrying the weight for both of us. Which is fair. I wish I would been more... conscious, I guess.But to do something so immediate, so callous, so thoughtless, and then to tell me to my face that she recognizes that it is shitty but she does not care, *and* that she wants us to still be best friends despite it.She knows how I feel about them, has for a long time. she is always been my best friend, and I confided in her when I was afraid and confused and did not yet know the rest of our friends were experiencing the same thing. She knows how they have hurt me, hurt our other friends. She just keeps repeating the excuses they have given her.I am going to be stuck in a shitty job with two hours of commuting each day. I am going to be stuck alone in an apartment. I am not going to have the mental energy to do things I want to do: I had just outlined most of a novel series, I was ready to start writing it right before the breakup; I will not have the mental capacity or time to find another fucking job. I had just been grappling with this gender dysphoria and was looking into transitioning. I do not know that I can do that alone. I do not know that I can do *anything* if I am spending 11 hours of my day, 5 days a week traveling and working. My supposed best friend honestly just fucking betrayed me; her leaving suddenly hurt, but jumping in bed with the last fucking person in the world I would ever be comfortable around, someone she knows well has hurt me. I had already been grappling with her dating other people because she said she wanted to start dating casually; I had wrapped my head around it, she said it would be a long time before she could even think about entering another actual relationship... and then, suddenly, she starts fucking an abusive, manipulative, horrible presence in my life, someone our friends have been working up to a confrontation with as they continue to sink their teeth in.I just do not know her anymore. she is a completely different person. I cannot understand what she sees in them, I cannot understand why she is doing any of this, it all came out of nowhere, and I cannot see my life getting any better from here. It feels like my life is over. It feels like I have nothing. Even our friend group is fracturing because of this fucking manipulative bastard sitting in the middle of it, laughing while they tear people down around them. I have no motivation. I am confused. I am lost. I am empty. I feel like I keep falling off of cliffs, one after another.I could move back east, live with my mom again. she is been asking me to do that the whole four years I have lived out west. She cries. She says she is depressed, has nothing without me, that she does not know what to do without me. But living with her was miserable. I could not do anything. I could not flourish. And then after 3 years of long distance I moved out west, giving up everything, and then I *did* flourish. For 4 years I grew and became something. I felt at home, at peace, I had a partner who I loved more than anything. We were a team, we were adventuring companions, we were each other's home.And now that is all gone. I do not know what to do. I do not know where to go from here. I feel empty and lost and shitty and I am stuck with the reality of this person who is been nothing but horrible to my friends and I running off with the woman I love, seemingly developing an entire false personality that is completely the opposite of how they behave whenever she is not around. they are the one fucking person in the world I could not handle her leaving me for. And fucking talking about them makes me feel insane, because \"developing an entire separate personality for the sake of manipulation\" sounds fucking crazy, it is something I would not believe at all if it is not something I was witnessing with my own eyes, and had not already seen my father do for years, and if I was the only one seeing it. But I am not. A number of us do.I just want to wake up. I just want to wake up from this dream. I gave everything for this relationship and now I have nothing. She still wants to be friends, she calls me her best friend, but friends do not act this callous, and I do not know how to be friends with someone who makes me feel this betrayed, this empty, this desperate and lonely and horrible.I do not want to be stuck in an apartment by myself, in a dead-end job that eats up half of every day. I do not want to be stuck with my overbearing mom again. I do not want to be stuck with strangers. Everyone I know is on a lease. None of these situations offer me the time or freedom or energy to be the person I have been fighting to become. I cannot imagine a version of the future that has any kindness, any hope. I have no motivation. I have had a knot in my gut for weeks that will not go away. I want this abuser out of my life. I want my best friend to at least act with some compassion. I want my cat. I want to feel home again, I want to feel family. I want to be able to eat without feeling sick.I want one more night where we sit together in bed reading separate books, and to turn off the lights to hold each other close. I want to go home again. I want to wake up from this fucking nightmare reality that I have been living in for months, that I thought I was living in love, that I thought was my life.<|eot_id|>\n"
     ]
    },
    {
     "name": "stderr",
     "output_type": "stream",
     "text": [
      "Predicting: 100%|██████████| 66/66 [01:57<00:00,  1.79s/it]\n"
     ]
    }
   ],
   "source": [
    "FastLanguageModel.for_inference(model) # Enable native 2x faster inference\n",
    "predicted_outputs, correct_outputs = predict_from_messages(test_inputs_extracted, test_dataset, model, 16, 2048)\n"
   ]
  },
  {
   "cell_type": "code",
   "execution_count": 16,
   "metadata": {},
   "outputs": [
    {
     "name": "stdout",
     "output_type": "stream",
     "text": [
      "Considering suicide again. Shit sucks dick and I am tired of life and being a failure. I cannot keep even a minimum wage job. cannot get my license because I need to work shit out with the sheriffs office before I can (long story). Wish I had access to a gun because my survival instinct makes jumping in front of a train too hard. And there is no bridges high enough that are near me. Just a dumb vent because I had nowhere else to post it. Hope everyone here is coping alright, take care of yourselves In a really dark spot right now, do not know if its the usual where it flares up at night and I am fine in the morning, or if I am getting bad again. :   depression    suicidal\n",
      "when all you can feel is you re failing at everything failure failure failure so you give up and you attempt to end it all and even fail at that how am i supposed to feel then :   depression    depression\n",
      "This is my first time posting on here. I did not really think I was depressed before, but now I do not know. I do not have anything special to say. I manage to go to work, pay the bills, but damn anything besides that and drinking is real hard. I feel like I should be trying harder, but for what? I wish I felt it was worth it. I know my family is worth it, I guess, but I do not know if I can do it for me. Anyways, you, thanks for listening, hope to see you tomorrow. Is it supposed to be this hard? :   depression    depression\n",
      "It turns out they had been giving our grandparents a very idyllic, picturesque idea of what life in the church was like and my grandmother hated herself for a long time for not knowing what the truth was, even though there's no way she could have. I'm now I'm college and in therapy. My sister was younger than me and doesn't have quite as much baggage from it all, I don't think she remembers as much or maybe she blocked more of it out, another small mercy, but she still has deep issues and acts out in really inappropriate ways. I've found a measure of happiness. Edited for spelling and sentence structure. :   depression    suicidal\n",
      "kenjaku flop :   depression    depression\n",
      "We are investigating social anxiety, perfectionism, and thinking styles, and we are interested in your insight. Hi everyone, I'm a PhD candidate in clinical psychology and I'm currently conducting a survey on social anxiety, perfectionism, and thinking styles. I would love to hear from you! The survey is open to anyone aged 18+. It should take about 30 mins to complete, and you have the option to enter a 1 of 4 $50 Visa gift card draw at the end.\n",
      "\n",
      "Link to the survey: https://qualtrics.flinders.edu.au/jfe/form/SV_cVfmOOF57d75gHj Thanks! :   normal    normal\n",
      "day to do day work :   normal    normal\n",
      "Hey, what is this person who has been sent on the task of Sunday LPS but said thank you for sending the date, the pound was wrong, ey :   suicidal    suicidal\n",
      "I honestly do not understand it myself. Maybe its my stupid monke brain that is just missing people, a real person. One person I chose to be around, not my family or the hateful people I am forced to be around at school. Someone that I would not jump out a window to avoid in public. It just makes me sad to realise I am probably not going to meet a person like that. I do not like to socialise but I am lonely :   suicidal    suicidal\n",
      "My family stripped me of my worth from birth and now I have been burdened with unending pain. There are a million glimmering stars of hope, but the sky is up there, and I am down here. I am not worthy of the heavens. I am not worthy of my gods. I am not worthy of forgiveness.It does not matter if I might be happy a couple of years from now. I have spent half of my short lifespan in agony that stole any chance I had at getting to enjoy my childhood. The thought of bearing another year of this, or even another month, is a burning hot misery.I deny this torment. I do not wish to exist anymore. I have stood right at the veil and pushed my fingers against it, but I never managed to open it with. I think I will open the veil. It may be, that I need a couple more days. To get my farewells in order.I am not worthy of this world. I am not worthy of your pity. I do not even know why I am writing this. I will just decay :   normal    normal\n",
      "Is anyone else scared that they are going to ban tiktok? It scares me that they're thinking of banning tiktok. Tiktok has been one of the only things that can calm down my anxiety and make me not stressed. :   suicidal    personality disorder\n",
      "Engene only, anyone want to be transported to the back up acc? :   depression    depression\n",
      "I'm relapsing on my past HA, at least right now. [Long post] In October of 2017, I had my first actual panic attack and it was massive. I never figured out where it came from, but I ended up in the ER for fear of a heart attack. Had all the symptoms just about. This occurred about 2-3 more times within a week or two and it got to the point that the doctor got frustrated and told me I was wasting the ERs time and money on potential people who may actually need it and gave me a low amount of Xanax and a referral for a therapist. After then, I had lingering chest pains for seemingly 24/7, so I also went to a cardiologist and did several tests from ecgs/EKGs to wearing a heart monitor for varying times, with one month being the longest. Turns out my heart was 100% healthy and the healthiest he had seen in years, which was surprising considering I was a smoker and drank too much caffeine and drank a bit too much. I still smoke, drink caffeine and drink here and there but I've cut down tremendously since. I was in therapy for 6 months. It mostly involved us talking things through, but we also got to a point where I would try to purposely induce attacks so we could with through them together in order to learn how I can tackle them by myself. Another thing we did that helped was write down my current health fears (biggest one was fearing a brain aneurysm would come at any time because of my constant headaches and ice pick headaches) and I would also write why it was making me scared. Then I would come back for my next visit two weeks later and she'd have me read what I wrote and it always sounded insane but never ever for me to stop being worried entirely, but overtime it got better. I was diagnosed with hypochondria/health illness anxiety. I have since moved to California after being in therapy for 6 months. For whatever reason, it was like a complete 180, from worrying about it all the time to not worrying about it much at all anymore. I would still get some attacks here and there but I always managed them one way or another.\n",
      "\n",
      "Lately, I've just been more down than usual and I plan on seeing another therapist to try and tackle that, but I think it's partially making the hypochondriac I am come back out. Example: about two nights ago, I was getting ready to take a nap, but I was on my phone for a few, getting settled, propping myself with my right hand/arm on my side. Later, I would wake up and I started gaming a bit after, but I noticed my upper right arm and lower shoulder have sharp pains after moving it a few certain ways. I brushed it off because I figured, \"I probably put too much strain on it when I was on my side before my nap\". Well it's been a few nights now or so and while it hasn't gotten worse, it hasn't gotten better, I think. Fine, whatever. But then I noticed pains in my forearm, closer to my wrist that would come and go slightly. Then I started feeling that later in my right forearm. Today I was pulling weeds and when I got back up, my shins had sharp pains for a few minutes. I was feeling off and light-headed and thought I may be dehydrated because I drank last night and didn't really do a good job keeping myself hydrated then. So I did the worst thing possible - I googled dehydration symptoms. When it becomes \"severe\" and should seek help, etc. Granted this was just all on the same page, but I didn't have to read it. I legit just wasn't sure if it was dehydration and it did more hurt than it helped. I'm feeling better after some water, but now while I'm not constantly Googling anything on the exception to see what the symptoms of dehydration were and effects it could have on the body, I'm fighting that feeling of being worried about the pains I mentioned above. If it was just the shoulder pain, or just the here and there forearm pain or the mild discomfort I feel in my fingers... basically if I just wasn't feeling pain in varying intensities and one or two areas, I could easily reason with myself.\n",
      "\n",
      "I haven't seen my doctor in a couple months and I'm going to make an appointment in the morning and talk with her about it and see what we can do, as well as probably set up to see another therapist for what I'm assuming to be depression. But I'm feeling myself slipping again and I'm not ready to deal with even a fraction of what I dealt with before. :   depression    depression\n",
      "$140. i can't believe it. :   depression    depression\n",
      "Asu jajajabkabakab :   normal    normal\n",
      "I am not quite suicidal, but I am not quite okay. I am I am limbo. I lay in bed, trying to sleep and I have so much anxiety about going to work. Numb from depression. My family wants to celebrate Christmas in July, and usually Christmas songs and movies give me that warm fuzzy childhood feeling. I feel void. I lay in bed, I do not want to face the day. I want to sleep. Stay in bed. I think if I die, my problems would go away. But at the same time, I do not want to die. I want to enjoy life. I sink to that level of borderline SI, but then I go back to thinking how I could improve my life.Today, I got a friend request from my cousin. you would think that would cheer me up. No. It made me more depressed and feeling useless. The reason? Three week ago, I sent her a friend request. No reply. No response. I assumed she just does not check her social media often. However, it occurred to me today. If she sent me a friend request, that means she declined my friend request 3 weeks ago. Otherwise, it would have said she accepted my friend request. That means, she must have felt guilty and friended me out of obligation. My own family does not care about me or my life. Her first instinct was to not friend me. I am lost. Any advice? I am in Limbo. Anyone Relate? :   normal    normal\n",
      "I wish I could live in a fictional tv show you know one of those shows where everybody is attractive including myself any problem I have gets solved within a hour. I have great friends that do not back stab me I also have a beautiful girlfriend that holds my hand in public and gives me hugs and kiss all the time. Christmas would be awesome I would not be alone I would be with all of them I also would have a passion job that I love like a lead singer of a band. Anyways... back to reality that soul crushing feeling hits hard knowing that my real reality is a damn nightmare I cannot wake up out of. I wish I could live in a fictional tv show :   stress    stress\n",
      "I’m tired of being a broke girl I really wish there was a way to make quick money without working or having a business. Because with those, you still have to wait for payment even in emergency situations. With loan companies, they either deny you or take you through a million applications just to steal your info. I’m tired of living this hard life :   normal    normal\n",
      "8 Simple Tactics to improve your personality  \n",
      "\n",
      "Personality is defined as the collection of behavior, attitude, and ways of expressing emotions that makes a person unique. We can identify if a person is with a good personality or not based on the outer expression of inner feelings. If you want to become a better and successful person in life, be it professional or personal, building up on personality is a good place to start.\n",
      "\n",
      "How is our personality developed? Our childhood environment and surrounding people i.e outer world influence our personality…[CONTINUE READING](https://feellitent.wordpress.com/2022/12/26/8-simple-tactics-to-boost-your-personality/) :   normal    normal\n",
      "What are your hobbies? :   depression    depression\n",
      "I cannot shake this feeling that my friend is using me to buy them things? I told them I already spent a gargantuan amount of money on my new car, a game for them, and some other essentials I need (such as meds etc., etc.,). Not to mention some other expensive things I have bought for them in the past. But they kept dismissing me saying Ill have the money by the holidays, when I tried to say no. They also said (and I am do not know if they were joking) that I cannot disappoint them this year. They also have not been on their medication lately so their playful insults come at me more often. Which honestly triggered my depression enough to contemplate well.... you know..I really do not know what to do.... I feel like my friend is using me for materialistic items and money... :   suicidal    suicidal\n",
      "I posted on here before but it is just getting harder and harder. I definitely do not impact anyone's life in any way. I do not have any close friends. If I was ever in trouble, I would not have anyone to call. I feel so worthless and gross and disgusting. I feel like everyone hates me and wishes they never met me.If I could leave this world and everyone could forget I ever existed, I would. I wish everyone could forget me. :   anxiety    anxiety\n",
      "Accuracy:  0.8433048433048433\n"
     ]
    }
   ],
   "source": [
    "count_correct(predicted_outputs, correct_outputs, test_dataset)"
   ]
  },
  {
   "cell_type": "code",
   "execution_count": null,
   "metadata": {},
   "outputs": [],
   "source": []
  }
 ],
 "metadata": {
  "kernelspec": {
   "display_name": "llm_env",
   "language": "python",
   "name": "python3"
  },
  "language_info": {
   "codemirror_mode": {
    "name": "ipython",
    "version": 3
   },
   "file_extension": ".py",
   "mimetype": "text/x-python",
   "name": "python",
   "nbconvert_exporter": "python",
   "pygments_lexer": "ipython3",
   "version": "3.10.12"
  }
 },
 "nbformat": 4,
 "nbformat_minor": 2
}
